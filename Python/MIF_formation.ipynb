{
 "cells": [
  {
   "cell_type": "code",
   "execution_count": 46,
   "metadata": {},
   "outputs": [
    {
     "name": "stdout",
     "output_type": "stream",
     "text": [
      "Decimal: -4.2500\n",
      "16-bit signed fixed-point binary: 1100010000000000\n"
     ]
    }
   ],
   "source": [
    "def dec_to_fixed_point(num):\n",
    "\n",
    "  # Check for overflow (absolute value greater than or equal to 4)\n",
    "  if abs(num) >= 7:\n",
    "    raise OverflowError(\"Number too large for 16-bit representation\")\n",
    "\n",
    "  # Extract sign bit\n",
    "  sign = 0 if num >= 0 else 1\n",
    "\n",
    "  # Separate integer and fractional parts\n",
    "  integer_part = int(num)\n",
    "  fractional_part = abs(num - integer_part)\n",
    "\n",
    "  # Convert integer part to binary (limit to 2 bits using bitwise AND with 3)\n",
    "  int_binary = bin(integer_part & 7)[2:].zfill(3)  # Ensures 2-bit representation\n",
    "\n",
    "  # Scale fractional part for 14-bit representation with a factor of 2^14 (avoid overflow)\n",
    "  fractional_part *= 2**12   ## CHANGE THIS FOR PRECISION\n",
    "\n",
    "  # Convert scaled fractional part to binary (14 bits)\n",
    "  frac_binary = bin(int(fractional_part))[2:].zfill(12)\n",
    "\n",
    "  # Combine sign, integer, and fractional parts\n",
    "  fixed_point_binary = f\"{sign}{int_binary}{frac_binary}\"\n",
    "\n",
    "  return fixed_point_binary\n",
    "\n",
    "# Example usage\n",
    "number = -4.25\n",
    "fixed_point_representation = dec_to_fixed_point(number)\n",
    "print(f\"Decimal: {number:.4f}\")\n",
    "print(f\"16-bit signed fixed-point binary: {fixed_point_representation}\")\n"
   ]
  },
  {
   "cell_type": "code",
   "execution_count": 47,
   "metadata": {},
   "outputs": [],
   "source": [
    "for i in range(0, 40):\n",
    "    f_write = open(f\"w_1_{i}.mif\", \"w\")\n",
    "    f_read = open(f\"weight_1_{i}.txt\", \"r\")\n",
    "    \n",
    "    Lines = f_read.readlines()\n",
    "    \n",
    "    for line in Lines:\n",
    "        num = float(line.strip())\n",
    "        num_binary = dec_to_fixed_point(num)\n",
    "        num_str = f\"{num_binary}\"\n",
    "        f_write.write(num_str)\n",
    "        f_write.write(\"\\n\")\n",
    "        \n",
    "    f_write.close()\n",
    "    f_read.close()\n"
   ]
  },
  {
   "cell_type": "code",
   "execution_count": 48,
   "metadata": {},
   "outputs": [],
   "source": [
    "for i in range(0, 40):\n",
    "    f_write = open(f\"b_1_{i}.mif\", \"w\")\n",
    "    f_read = open(f\"bias_1_{i}.txt\", \"r\")\n",
    "    \n",
    "    Lines = f_read.readlines()\n",
    "    \n",
    "    for line in Lines:\n",
    "        num = float(line.strip())\n",
    "        num_binary = dec_to_fixed_point(num)\n",
    "        num_str = f\"{num_binary}\"\n",
    "        f_write.write(num_str)\n",
    "        f_write.write(\"\\n\")\n",
    "        \n",
    "    f_write.close()\n",
    "    f_read.close()"
   ]
  },
  {
   "cell_type": "code",
   "execution_count": 49,
   "metadata": {},
   "outputs": [],
   "source": [
    "for i in range(0, 30):\n",
    "    f_write = open(f\"w_2_{i}.mif\", \"w\")\n",
    "    f_read = open(f\"weight_2_{i}.txt\", \"r\")\n",
    "    \n",
    "    Lines = f_read.readlines()\n",
    "    \n",
    "    for line in Lines:\n",
    "        num = float(line.strip())\n",
    "        num_binary = dec_to_fixed_point(num)\n",
    "        num_str = f\"{num_binary}\"\n",
    "        f_write.write(num_str)\n",
    "        f_write.write(\"\\n\")\n",
    "        \n",
    "    f_write.close()\n",
    "    f_read.close()\n"
   ]
  },
  {
   "cell_type": "code",
   "execution_count": 50,
   "metadata": {},
   "outputs": [],
   "source": [
    "for i in range(0, 30):\n",
    "    f_write = open(f\"b_2_{i}.mif\", \"w\")\n",
    "    f_read = open(f\"bias_2_{i}.txt\", \"r\")\n",
    "    \n",
    "    Lines = f_read.readlines()\n",
    "    \n",
    "    for line in Lines:\n",
    "        num = float(line.strip())\n",
    "        num_binary = dec_to_fixed_point(num)\n",
    "        num_str = f\"{num_binary}\"\n",
    "        f_write.write(num_str)\n",
    "        f_write.write(\"\\n\")\n",
    "        \n",
    "    f_write.close()\n",
    "    f_read.close()"
   ]
  },
  {
   "cell_type": "code",
   "execution_count": 51,
   "metadata": {},
   "outputs": [],
   "source": [
    "for i in range(0, 20):\n",
    "    f_write = open(f\"w_3_{i}.mif\", \"w\")\n",
    "    f_read = open(f\"weight_3_{i}.txt\", \"r\")\n",
    "    \n",
    "    Lines = f_read.readlines()\n",
    "    \n",
    "    for line in Lines:\n",
    "        num = float(line.strip())\n",
    "        num_binary = dec_to_fixed_point(num)\n",
    "        num_str = f\"{num_binary}\"\n",
    "        f_write.write(num_str)\n",
    "        f_write.write(\"\\n\")\n",
    "        \n",
    "    f_write.close()\n",
    "    f_read.close()"
   ]
  },
  {
   "cell_type": "code",
   "execution_count": 52,
   "metadata": {},
   "outputs": [],
   "source": [
    "for i in range(0, 20):\n",
    "    f_write = open(f\"b_3_{i}.mif\", \"w\")\n",
    "    f_read = open(f\"bias_3_{i}.txt\", \"r\")\n",
    "    \n",
    "    Lines = f_read.readlines()\n",
    "    \n",
    "    for line in Lines:\n",
    "        num = float(line.strip())\n",
    "        num_binary = dec_to_fixed_point(num)\n",
    "        num_str = f\"{num_binary}\"\n",
    "        f_write.write(num_str)\n",
    "        f_write.write(\"\\n\")\n",
    "        \n",
    "    f_write.close()\n",
    "    f_read.close()"
   ]
  },
  {
   "cell_type": "code",
   "execution_count": 53,
   "metadata": {},
   "outputs": [],
   "source": [
    "for i in range(0, 10):\n",
    "    f_write = open(f\"w_4_{i}.mif\", \"w\")\n",
    "    f_read = open(f\"weight_4_{i}.txt\", \"r\")\n",
    "    \n",
    "    Lines = f_read.readlines()\n",
    "    \n",
    "    for line in Lines:\n",
    "        num = float(line.strip())\n",
    "        num_binary = dec_to_fixed_point(num)\n",
    "        num_str = f\"{num_binary}\"\n",
    "        f_write.write(num_str)\n",
    "        f_write.write(\"\\n\")\n",
    "        \n",
    "    f_write.close()\n",
    "    f_read.close()"
   ]
  },
  {
   "cell_type": "code",
   "execution_count": 54,
   "metadata": {},
   "outputs": [],
   "source": [
    "for i in range(0, 10):\n",
    "    f_write = open(f\"b_4_{i}.mif\", \"w\")\n",
    "    f_read = open(f\"bias_4_{i}.txt\", \"r\")\n",
    "    \n",
    "    Lines = f_read.readlines()\n",
    "    \n",
    "    for line in Lines:\n",
    "        num = float(line.strip())\n",
    "        num_binary = dec_to_fixed_point(num)\n",
    "        num_str = f\"{num_binary}\"\n",
    "        f_write.write(num_str)\n",
    "        f_write.write(\"\\n\")\n",
    "        \n",
    "    f_write.close()\n",
    "    f_read.close()"
   ]
  }
 ],
 "metadata": {
  "kernelspec": {
   "display_name": "Python 3",
   "language": "python",
   "name": "python3"
  },
  "language_info": {
   "codemirror_mode": {
    "name": "ipython",
    "version": 3
   },
   "file_extension": ".py",
   "mimetype": "text/x-python",
   "name": "python",
   "nbconvert_exporter": "python",
   "pygments_lexer": "ipython3",
   "version": "3.8.1"
  }
 },
 "nbformat": 4,
 "nbformat_minor": 2
}
