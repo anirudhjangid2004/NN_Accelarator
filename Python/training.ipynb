{
 "cells": [
  {
   "cell_type": "code",
   "execution_count": 9,
   "metadata": {},
   "outputs": [],
   "source": [
    "import tensorflow\n",
    "from tensorflow.keras.datasets import mnist\n",
    "from tensorflow.keras.models import Sequential\n",
    "from tensorflow.keras.layers import Dense, Flatten\n",
    "from tensorflow.keras.optimizers import Adam\n",
    "\n",
    "# Load MNIST dataset\n",
    "(x_train, y_train), (x_test, y_test) = mnist.load_data()\n",
    "\n",
    "# Preprocess data\n",
    "x_train = x_train.reshape(x_train.shape[0], 28 * 28)  # Flatten images\n",
    "x_test = x_test.reshape(x_test.shape[0], 28 * 28)\n",
    "\n",
    "x_train = x_train.astype('float32') / 255  # Normalize pixel values\n",
    "x_test = x_test.astype('float32') / 255\n",
    "\n",
    "# One-hot encode labels\n",
    "y_train = tensorflow.keras.utils.to_categorical(y_train, 10)\n",
    "y_test = tensorflow.keras.utils.to_categorical(y_test, 10)"
   ]
  },
  {
   "cell_type": "code",
   "execution_count": 10,
   "metadata": {},
   "outputs": [],
   "source": [
    "# Define the model\n",
    "model = Sequential()\n",
    "model.add(Dense(40, activation='relu', input_shape=(28 * 28,)))\n",
    "model.add(Dense(30, activation='relu'))\n",
    "model.add(Dense(20, activation='relu'))\n",
    "model.add(Dense(10, activation='softmax'))\n",
    "\n",
    "# Compile the model\n",
    "model.compile(loss='categorical_crossentropy', optimizer=Adam(), metrics=['accuracy'])"
   ]
  },
  {
   "cell_type": "code",
   "execution_count": 11,
   "metadata": {},
   "outputs": [
    {
     "name": "stdout",
     "output_type": "stream",
     "text": [
      "Epoch 1/20\n",
      "469/469 [==============================] - 2s 3ms/step - loss: 0.5097 - accuracy: 0.8470 - val_loss: 0.2193 - val_accuracy: 0.9349\n",
      "Epoch 2/20\n",
      "469/469 [==============================] - 1s 2ms/step - loss: 0.2000 - accuracy: 0.9417 - val_loss: 0.1699 - val_accuracy: 0.9501\n",
      "Epoch 3/20\n",
      "469/469 [==============================] - 1s 2ms/step - loss: 0.1543 - accuracy: 0.9553 - val_loss: 0.1421 - val_accuracy: 0.9572\n",
      "Epoch 4/20\n",
      "469/469 [==============================] - 1s 2ms/step - loss: 0.1295 - accuracy: 0.9617 - val_loss: 0.1315 - val_accuracy: 0.9602\n",
      "Epoch 5/20\n",
      "469/469 [==============================] - 1s 2ms/step - loss: 0.1128 - accuracy: 0.9667 - val_loss: 0.1321 - val_accuracy: 0.9596\n",
      "Epoch 6/20\n",
      "469/469 [==============================] - 1s 2ms/step - loss: 0.0990 - accuracy: 0.9706 - val_loss: 0.1190 - val_accuracy: 0.9642\n",
      "Epoch 7/20\n",
      "469/469 [==============================] - 1s 2ms/step - loss: 0.0909 - accuracy: 0.9721 - val_loss: 0.1157 - val_accuracy: 0.9646\n",
      "Epoch 8/20\n",
      "469/469 [==============================] - 1s 2ms/step - loss: 0.0804 - accuracy: 0.9755 - val_loss: 0.1102 - val_accuracy: 0.9664\n",
      "Epoch 9/20\n",
      "469/469 [==============================] - 1s 2ms/step - loss: 0.0733 - accuracy: 0.9782 - val_loss: 0.1059 - val_accuracy: 0.9692\n",
      "Epoch 10/20\n",
      "469/469 [==============================] - 1s 2ms/step - loss: 0.0661 - accuracy: 0.9792 - val_loss: 0.1043 - val_accuracy: 0.9709\n",
      "Epoch 11/20\n",
      "469/469 [==============================] - 1s 2ms/step - loss: 0.0619 - accuracy: 0.9806 - val_loss: 0.1070 - val_accuracy: 0.9692\n",
      "Epoch 12/20\n",
      "469/469 [==============================] - 1s 2ms/step - loss: 0.0567 - accuracy: 0.9824 - val_loss: 0.1068 - val_accuracy: 0.9698\n",
      "Epoch 13/20\n",
      "469/469 [==============================] - 1s 2ms/step - loss: 0.0514 - accuracy: 0.9844 - val_loss: 0.1010 - val_accuracy: 0.9715\n",
      "Epoch 14/20\n",
      "469/469 [==============================] - 1s 2ms/step - loss: 0.0474 - accuracy: 0.9855 - val_loss: 0.1143 - val_accuracy: 0.9691\n",
      "Epoch 15/20\n",
      "469/469 [==============================] - 1s 2ms/step - loss: 0.0439 - accuracy: 0.9865 - val_loss: 0.1101 - val_accuracy: 0.9689\n",
      "Epoch 16/20\n",
      "469/469 [==============================] - 1s 2ms/step - loss: 0.0424 - accuracy: 0.9863 - val_loss: 0.1108 - val_accuracy: 0.9701\n",
      "Epoch 17/20\n",
      "469/469 [==============================] - 1s 2ms/step - loss: 0.0386 - accuracy: 0.9874 - val_loss: 0.1063 - val_accuracy: 0.9727\n",
      "Epoch 18/20\n",
      "469/469 [==============================] - 1s 2ms/step - loss: 0.0361 - accuracy: 0.9886 - val_loss: 0.1330 - val_accuracy: 0.9661\n",
      "Epoch 19/20\n",
      "469/469 [==============================] - 1s 2ms/step - loss: 0.0338 - accuracy: 0.9891 - val_loss: 0.1224 - val_accuracy: 0.9713\n",
      "Epoch 20/20\n",
      "469/469 [==============================] - 1s 2ms/step - loss: 0.0312 - accuracy: 0.9904 - val_loss: 0.1219 - val_accuracy: 0.9692\n",
      "313/313 [==============================] - 1s 2ms/step - loss: 0.1219 - accuracy: 0.9692\n",
      "Test loss: 0.12190663814544678\n",
      "Test accuracy: 0.9692000150680542\n"
     ]
    }
   ],
   "source": [
    "# Train the model\n",
    "model.fit(x_train, y_train, epochs=20, batch_size=128, validation_data=(x_test, y_test))\n",
    "\n",
    "# Evaluate the model\n",
    "loss, accuracy = model.evaluate(x_test, y_test)\n",
    "print('Test loss:', loss)\n",
    "print('Test accuracy:', accuracy)"
   ]
  },
  {
   "cell_type": "code",
   "execution_count": 12,
   "metadata": {},
   "outputs": [],
   "source": [
    "f = open('weights.txt', 'w')"
   ]
  },
  {
   "cell_type": "code",
   "execution_count": 13,
   "metadata": {},
   "outputs": [],
   "source": [
    "# Get weights and biases of the second layer (index 1)\n",
    "weights = model.layers[0].get_weights()[0]\n",
    "biases = model.layers[0].get_weights()[1]\n",
    "\n",
    "weights_new = weights.T\n",
    "#Storing the weights of layer 1\n",
    "\n",
    "bias_str = [f\"{val:.8f}\" for val in biases]\n",
    "# print(len(weights_str))\n",
    "for i in range(1, 41):\n",
    "    f_w = open(f\"weight_1_{i-1}.txt\", 'w')\n",
    "    f_b = open(f\"bias_1_{i-1}.txt\", 'w')\n",
    "\n",
    "    weights_str = [f\"{val:.8f}\" for val in weights_new[i-1]]\n",
    "    \n",
    "    for j in range(0, 784):\n",
    "        f_w.write(weights_str[j])\n",
    "        f_w.write('\\n')\n",
    "    \n",
    "    f_b.write(bias_str[i-1])\n",
    "        \n",
    "    f_w.close()\n",
    "    f_b.close()"
   ]
  },
  {
   "cell_type": "code",
   "execution_count": 14,
   "metadata": {},
   "outputs": [
    {
     "name": "stdout",
     "output_type": "stream",
     "text": [
      "784\n"
     ]
    }
   ],
   "source": [
    "# Get weights and biases of the second layer (index 1)\n",
    "weights = model.layers[1].get_weights()[0]\n",
    "biases = model.layers[1].get_weights()[1]\n",
    "\n",
    "weights_new = weights.T\n",
    "# print(weights_new.shape)\n",
    "#Storing the weights of layer 1\n",
    "\n",
    "bias_str = [f\"{val:.8f}\" for val in biases]\n",
    "print(len(weights_str))\n",
    "for i in range(1, 31):\n",
    "    f_w = open(f\"weight_2_{i-1}.txt\", 'w')\n",
    "    f_b = open(f\"bias_2_{i-1}.txt\", 'w')\n",
    "\n",
    "    weights_str = [f\"{val:.8f}\" for val in weights_new[i-1]]\n",
    "    \n",
    "    for j in range(0, 40):\n",
    "        f_w.write(weights_str[j])\n",
    "        f_w.write('\\n')\n",
    "    \n",
    "    f_b.write(bias_str[i-1])\n",
    "        \n",
    "    f_w.close()\n",
    "    f_b.close()"
   ]
  },
  {
   "cell_type": "code",
   "execution_count": 15,
   "metadata": {},
   "outputs": [
    {
     "name": "stdout",
     "output_type": "stream",
     "text": [
      "(20, 30)\n"
     ]
    }
   ],
   "source": [
    "# Get weights and biases of the second layer (index 1)\n",
    "weights = model.layers[2].get_weights()[0]\n",
    "biases = model.layers[2].get_weights()[1]\n",
    "\n",
    "weights_new = weights.T\n",
    "print(weights_new.shape)\n",
    "#Storing the weights of layer 1\n",
    "\n",
    "bias_str = [f\"{val:.8f}\" for val in biases]\n",
    "# print(len(weights_str))\n",
    "for i in range(1, 21):\n",
    "    f_w = open(f\"weight_3_{i-1}.txt\", 'w')\n",
    "    f_b = open(f\"bias_3_{i-1}.txt\", 'w')\n",
    "    \n",
    "    weights_str = [f\"{val:.8f}\" for val in weights_new[i-1]]\n",
    "    \n",
    "    for j in range(0, 30):\n",
    "        f_w.write(weights_str[j])\n",
    "        f_w.write('\\n')\n",
    "    \n",
    "    f_b.write(bias_str[i-1])\n",
    "        \n",
    "    f_w.close()\n",
    "    f_b.close()"
   ]
  },
  {
   "cell_type": "code",
   "execution_count": 16,
   "metadata": {},
   "outputs": [
    {
     "name": "stdout",
     "output_type": "stream",
     "text": [
      "(10, 20)\n"
     ]
    }
   ],
   "source": [
    "# Get weights and biases of the second layer (index 1)\n",
    "weights = model.layers[3].get_weights()[0]\n",
    "biases = model.layers[3].get_weights()[1]\n",
    "\n",
    "weights_new = weights.T\n",
    "print(weights_new.shape)\n",
    "#Storing the weights of layer 1\n",
    "\n",
    "bias_str = [f\"{val:.8f}\" for val in biases]\n",
    "# print(len(weights_str))\n",
    "for i in range(1, 11):\n",
    "    f_w = open(f\"weight_4_{i-1}.txt\", 'w')\n",
    "    f_b = open(f\"bias_4_{i-1}.txt\", 'w')\n",
    "\n",
    "    weights_str = [f\"{val:.8f}\" for val in weights_new[i-1]]\n",
    "    \n",
    "    for j in range(0, 20):\n",
    "        f_w.write(weights_str[j])\n",
    "        f_w.write('\\n')\n",
    "    \n",
    "    f_b.write(bias_str[i-1])\n",
    "        \n",
    "    f_w.close()\n",
    "    f_b.close()"
   ]
  }
 ],
 "metadata": {
  "kernelspec": {
   "display_name": "Python 3",
   "language": "python",
   "name": "python3"
  },
  "language_info": {
   "codemirror_mode": {
    "name": "ipython",
    "version": 3
   },
   "file_extension": ".py",
   "mimetype": "text/x-python",
   "name": "python",
   "nbconvert_exporter": "python",
   "pygments_lexer": "ipython3",
   "version": "3.8.1"
  }
 },
 "nbformat": 4,
 "nbformat_minor": 2
}
